{
 "cells": [
  {
   "cell_type": "code",
   "execution_count": 2,
   "metadata": {},
   "outputs": [],
   "source": [
    "# File: pyScript01.ipynb\n",
    "# INSTITUTE IN CRITICAL QUANTITATIVE, COMPUTATIONAL, & MIXED METHODOLOGIES\n",
    "# Learning Python (Python version: 3)"
   ]
  },
  {
   "cell_type": "markdown",
   "metadata": {},
   "source": [
    "# Simplest (complete) program: \"Hello World!\""
   ]
  },
  {
   "cell_type": "code",
   "execution_count": 1,
   "metadata": {},
   "outputs": [
    {
     "name": "stdout",
     "output_type": "stream",
     "text": [
      "Hello, World!\n"
     ]
    }
   ],
   "source": [
    "# Use print() function\n",
    "print(\"Hello, World!\")"
   ]
  },
  {
   "cell_type": "code",
   "execution_count": null,
   "metadata": {},
   "outputs": [],
   "source": []
  },
  {
   "cell_type": "code",
   "execution_count": 3,
   "metadata": {},
   "outputs": [
    {
     "name": "stdout",
     "output_type": "stream",
     "text": [
      "This is a simple print statement\n"
     ]
    }
   ],
   "source": [
    "# Printing basics\n",
    "print(\"This is a simple print statement\")"
   ]
  },
  {
   "cell_type": "code",
   "execution_count": null,
   "metadata": {},
   "outputs": [],
   "source": []
  },
  {
   "cell_type": "code",
   "execution_count": 4,
   "metadata": {},
   "outputs": [
    {
     "name": "stdout",
     "output_type": "stream",
     "text": [
      "Hello,\tWorld! (With a tab character)\n"
     ]
    }
   ],
   "source": [
    "# Printing using special characters\n",
    "# Tab character ( \\t )\n",
    "print(\"Hello,\\tWorld! (With a tab character)\")"
   ]
  },
  {
   "cell_type": "code",
   "execution_count": null,
   "metadata": {},
   "outputs": [],
   "source": []
  },
  {
   "cell_type": "code",
   "execution_count": 5,
   "metadata": {},
   "outputs": [
    {
     "name": "stdout",
     "output_type": "stream",
     "text": [
      "Line one\n",
      "Line two, with newline character\n"
     ]
    }
   ],
   "source": [
    "# Inserting a new line (line feed) character ( \\n )\n",
    "print(\"Line one\\nLine two, with newline character\")"
   ]
  },
  {
   "cell_type": "code",
   "execution_count": null,
   "metadata": {},
   "outputs": [],
   "source": []
  },
  {
   "cell_type": "code",
   "execution_count": 6,
   "metadata": {},
   "outputs": [
    {
     "name": "stdout",
     "output_type": "stream",
     "text": [
      "Concatenation,\tin strings with tab in middle\n"
     ]
    }
   ],
   "source": [
    "# Concatenation in strings: \n",
    "# Use plus sign ( + ) to concatenate the parts of the string\n",
    "print(\"Concatenation,\" + \"\\t\" + \"in strings with tab in middle\")"
   ]
  },
  {
   "cell_type": "code",
   "execution_count": null,
   "metadata": {},
   "outputs": [],
   "source": []
  },
  {
   "cell_type": "code",
   "execution_count": 7,
   "metadata": {},
   "outputs": [
    {
     "name": "stdout",
     "output_type": "stream",
     "text": [
      "Printing \"quotes\" within a string\n"
     ]
    }
   ],
   "source": [
    "# If you wanted to print special characters\n",
    "# Printing quotes\n",
    "print('Printing \"quotes\" within a string') # mixing single and double quotes"
   ]
  },
  {
   "cell_type": "code",
   "execution_count": null,
   "metadata": {},
   "outputs": [],
   "source": []
  },
  {
   "cell_type": "code",
   "execution_count": 8,
   "metadata": {},
   "outputs": [
    {
     "name": "stdout",
     "output_type": "stream",
     "text": [
      "If I want to print 'single quotes' in a string, use backslash!\n",
      "If I want to print \"double quotes\" in a string, use backslash!\n",
      "If I want to print \\the backslash\\ in a string, also use backslash!\n"
     ]
    }
   ],
   "source": [
    "# What if you needed to print special characters like (\\) or (') or (\")\n",
    "print('If I want to print \\'single quotes\\' in a string, use backslash!')\n",
    "print(\"If I want to print \\\"double quotes\\\" in a string, use backslash!\")\n",
    "print('If I want to print \\\\the backslash\\\\ in a string, also use backslash!')"
   ]
  },
  {
   "cell_type": "markdown",
   "metadata": {},
   "source": [
    "____\n",
    "# Topics: Quick Overview\n",
    "- Data types\n",
    "- Expressions\n",
    "- Statements\n",
    "- Variables\n",
    "____"
   ]
  },
  {
   "cell_type": "code",
   "execution_count": 1,
   "metadata": {},
   "outputs": [
    {
     "data": {
      "text/plain": [
       "1"
      ]
     },
     "execution_count": 1,
     "metadata": {},
     "output_type": "execute_result"
    }
   ],
   "source": [
    "### Basic expression: single data item (datum)\n",
    "##\n",
    "##  An expression that evaluates to itself. It's a literal datum\n",
    "### ------------------------------------------------------------------\n",
    "1"
   ]
  },
  {
   "cell_type": "code",
   "execution_count": 2,
   "metadata": {},
   "outputs": [
    {
     "data": {
      "text/plain": [
       "4.0"
      ]
     },
     "execution_count": 2,
     "metadata": {},
     "output_type": "execute_result"
    }
   ],
   "source": [
    "### More complicated expression (e.g. arithmetic expression)\n",
    "##\n",
    "##  Will evaluate to whatever the result is when applying the\n",
    "##  arithmetic operator to the values\n",
    "### ------------------------------------------------------------------\n",
    "\n",
    "1 + 2\n",
    "1 + 2 * 3 / 2"
   ]
  },
  {
   "cell_type": "code",
   "execution_count": 11,
   "metadata": {},
   "outputs": [
    {
     "name": "stdout",
     "output_type": "stream",
     "text": [
      "False\n",
      "True\n"
     ]
    }
   ],
   "source": [
    "### More complicated expression (e.g. Boolean expression)\n",
    "##\n",
    "### ------------------------------------------------------------------\n",
    "\n",
    "print(100 > 200)\n",
    "print(500 == 500)"
   ]
  },
  {
   "cell_type": "code",
   "execution_count": 13,
   "metadata": {},
   "outputs": [
    {
     "name": "stdout",
     "output_type": "stream",
     "text": [
      "100\n",
      "one\n"
     ]
    }
   ],
   "source": [
    "### Assignment statements and use of variable\n",
    "##\n",
    "##  Assign values to variables\n",
    "##  You do NOT have to provide a DATA TYPE with the variable\n",
    "##  Python automatically assigns data types based on the values that are\n",
    "##   assigned to the variables\n",
    "### ------------------------------------------------------------------\n",
    "\n",
    "num = 100     # variable num assigned the value 100\n",
    "num_one = \"one\"   # can do this, too. Now num holds the string \"one\"\n",
    "              # variables are VERY flexible\n",
    "\n",
    "print(num)\n",
    "print(num_one)"
   ]
  },
  {
   "cell_type": "code",
   "execution_count": 15,
   "metadata": {},
   "outputs": [
    {
     "data": {
      "text/plain": [
       "300"
      ]
     },
     "execution_count": 15,
     "metadata": {},
     "output_type": "execute_result"
    }
   ],
   "source": [
    "### Use variables in expressions\n",
    "##\n",
    "##  Interpretor will look up their value, and evaluate it accordingly\n",
    "### ------------------------------------------------------------------\n",
    "\n",
    "num_100 = 100\n",
    "num_200 = 200\n",
    "total = num_100 + num_200\n",
    "total                # num_100=100; num_200=200; the result (300) in variable: total"
   ]
  },
  {
   "cell_type": "markdown",
   "metadata": {},
   "source": [
    "____\n",
    "# Topics: Quick overview\n",
    "- data types\n",
    "- Boolean examples\n",
    "- Number examples\n",
    "- Identity, using id() function\n",
    "- Importing -- Math module: sqrt() function\n",
    "- String examples\n",
    "- Input from users\n",
    "____"
   ]
  },
  {
   "cell_type": "code",
   "execution_count": 16,
   "metadata": {},
   "outputs": [],
   "source": [
    "# Import library sqrt from math: (used below in math module section)\n",
    "from math import sqrt"
   ]
  },
  {
   "cell_type": "code",
   "execution_count": 17,
   "metadata": {},
   "outputs": [
    {
     "name": "stdout",
     "output_type": "stream",
     "text": [
      "<class 'int'>\n",
      "<class 'int'>\n",
      "<class 'float'>\n",
      "<class 'str'>\n",
      "<class 'bool'>\n",
      "===================================\n"
     ]
    }
   ],
   "source": [
    "# ## DATA TYPES #############################################\n",
    "# -- declaring a number of variables with different value types\n",
    "integerEx = 8\n",
    "longIntEx = 22000000000000000000000\n",
    "floatEx = 2.2\n",
    "stringEx = \"Hello\"\n",
    "booleanEx = True\n",
    "\n",
    "print(type(integerEx))\n",
    "print(type(longIntEx))\n",
    "print(type(floatEx))\n",
    "print(type(stringEx))\n",
    "print(type(booleanEx))\n",
    "print (\"===================================\")"
   ]
  },
  {
   "cell_type": "code",
   "execution_count": 21,
   "metadata": {},
   "outputs": [
    {
     "name": "stdout",
     "output_type": "stream",
     "text": [
      "The value of y is: 151.25\n",
      "===================================\n"
     ]
    }
   ],
   "source": [
    "# -- deleting variables\n",
    "x = 101.25\n",
    "y = x + 50\n",
    "del x  # delete the variable x\n",
    "print(\"The value of y is: \" + str(y))\n",
    "# print x\n",
    "# If you uncomment the above line and try to run this script you will\n",
    "# get an error that says:  NameError: name 'x' is not defined \n",
    "print (\"=\" * 35)\n",
    "\n",
    "#why does calling the value of y still return the value of x although the variable x is deleted? \n",
    "\n",
    "# Solution: It is still in memory but just not callable as an exact variable e.g. calling x returns the NameError (as seen below)."
   ]
  },
  {
   "cell_type": "code",
   "execution_count": 24,
   "metadata": {},
   "outputs": [
    {
     "ename": "NameError",
     "evalue": "name 'x' is not defined",
     "output_type": "error",
     "traceback": [
      "\u001b[1;31m---------------------------------------------------------------------------\u001b[0m",
      "\u001b[1;31mNameError\u001b[0m                                 Traceback (most recent call last)",
      "\u001b[1;32m<ipython-input-24-3311b57ffbcf>\u001b[0m in \u001b[0;36m<module>\u001b[1;34m\u001b[0m\n\u001b[0;32m      1\u001b[0m \u001b[1;31m# Call the variable: x (this should return an error)\u001b[0m\u001b[1;33m\u001b[0m\u001b[1;33m\u001b[0m\u001b[1;33m\u001b[0m\u001b[0m\n\u001b[1;32m----> 2\u001b[1;33m \u001b[0mx\u001b[0m\u001b[1;33m\u001b[0m\u001b[1;33m\u001b[0m\u001b[0m\n\u001b[0m",
      "\u001b[1;31mNameError\u001b[0m: name 'x' is not defined"
     ]
    }
   ],
   "source": [
    "# Call the variable: x (this should return an error)\n",
    "x"
   ]
  },
  {
   "cell_type": "code",
   "execution_count": 25,
   "metadata": {},
   "outputs": [
    {
     "name": "stdout",
     "output_type": "stream",
     "text": [
      "True and False is False.\n",
      "False\n",
      "..........\n",
      "True or False is True.\n",
      "True\n",
      "..........\n",
      "not False is True.\n",
      "True\n",
      "===================================\n"
     ]
    }
   ],
   "source": [
    "# ## BOOLEAN EXAMPLES #######################################\n",
    "\n",
    "booleanTwo = False\n",
    "\n",
    "res1 = booleanEx and booleanTwo\n",
    "print('{0} and {1} is {2}.'.format(booleanEx, booleanTwo, res1)) # Using vars\n",
    "print(booleanEx and booleanTwo)\n",
    "print(\"..........\")\n",
    "\n",
    "res2 = booleanEx or booleanTwo\n",
    "print('{0} or {1} is {2}.'.format(booleanEx, booleanTwo, res2))\n",
    "print(booleanEx or booleanTwo)\n",
    "print(\"..........\")\n",
    "\n",
    "res3 = not booleanTwo\n",
    "print('not {0} is {1}.'.format(booleanTwo, res3))\n",
    "print(not booleanTwo)\n",
    "print (\"===================================\")"
   ]
  },
  {
   "cell_type": "code",
   "execution_count": 26,
   "metadata": {},
   "outputs": [
    {
     "name": "stdout",
     "output_type": "stream",
     "text": [
      "14.142857142857142\n",
      "14.142857142857142\n",
      "7\n",
      "0\n",
      "===================================\n",
      "False\n",
      "False\n",
      "True\n",
      "True\n",
      "True\n",
      "False\n",
      "===================================\n",
      "106\n",
      "-92\n",
      "693\n",
      "0.0707070707070707\n",
      "1\n",
      "462068072803536855906378252728602401551029028414946485847699333055955922805275437143\n",
      "===================================\n"
     ]
    }
   ],
   "source": [
    "# ## NUMBER EXAMPLES ########################################\n",
    "\n",
    "intOne = 7\n",
    "intTwo = 99\n",
    "floatOne = 7.9\n",
    "floatTwo = 9.8\n",
    "\n",
    "# -- integer and float division;  type casting\n",
    "print(intTwo / intOne) # This should be 14.14 (integer division!)\n",
    "print(float(intTwo) / float(intOne))  # (float division)\n",
    "print(int(floatOne))\n",
    "print(int(booleanTwo)) # convert boolean (false) to integer ==> 0 for false\n",
    "print (\"===================================\")\n",
    "\n",
    "# -- standard Relational Operators\n",
    "print(intOne > intTwo)\n",
    "print(intOne >= intTwo)\n",
    "print(intOne < intTwo)\n",
    "print(intOne <= intTwo)\n",
    "print(intOne != intTwo)\n",
    "print(intOne == intTwo)\n",
    "print (\"===================================\")\n",
    "\n",
    "# -- standard mathematical operators;  order of precedence\n",
    "# -- [addition, subtraction, multiplication, division, modulus, exponent]\n",
    "print(intOne + intTwo)\n",
    "print(intOne - intTwo)\n",
    "print(intOne * intTwo)\n",
    "print(intOne / intTwo)\n",
    "print(intTwo % intOne)\n",
    "print(intOne ** intTwo)\n",
    "print (\"===================================\")"
   ]
  },
  {
   "cell_type": "code",
   "execution_count": 27,
   "metadata": {},
   "outputs": [
    {
     "name": "stdout",
     "output_type": "stream",
     "text": [
      "1685571576816\n",
      "===================================\n"
     ]
    }
   ],
   "source": [
    "# ## IDENTITY ###############################################\n",
    "# Returns the identity of an object --> is an integer (or long integer)\n",
    "#   which is guaranteed to be unique and constant for this object \n",
    "#   during its lifetime.\n",
    "# Can think of it like the address of the object in memory\n",
    "\n",
    "print(id(floatOne))\n",
    "print (\"===================================\")"
   ]
  },
  {
   "cell_type": "code",
   "execution_count": 28,
   "metadata": {},
   "outputs": [
    {
     "name": "stdout",
     "output_type": "stream",
     "text": [
      "intOne = 7\n",
      "The sqrt(intOne) = 2.6457513110645907\n",
      "===================================\n"
     ]
    }
   ],
   "source": [
    "# ## MATH MODULE - USING IMPORT #############################\n",
    "# Importing sqrt() function in the math library\n",
    "\n",
    "print('intOne =', intOne)\n",
    "print('The sqrt(intOne) =', sqrt(intOne))\n",
    "print (\"===================================\")"
   ]
  },
  {
   "cell_type": "code",
   "execution_count": 30,
   "metadata": {},
   "outputs": [
    {
     "name": "stdout",
     "output_type": "stream",
     "text": [
      "Hello World\n",
      "HelloWorld\n",
      "\"This is a very long string that goes on forever and ever\"\n",
      "Printing out the first 3 characters of the string:\n",
      "\"Th\n",
      "===================================\n"
     ]
    }
   ],
   "source": [
    "# ## STRING BASICS ##########################################\n",
    "\n",
    "strOne = \"Hello\"\n",
    "strTwo = \"World\"\n",
    "\n",
    "print(strOne, strTwo)\n",
    "print(strOne + strTwo)\n",
    "\n",
    "longStr = '\"This is a very long string that \\\n",
    "goes on forever and ever\"'\n",
    "\n",
    "print(longStr)\n",
    "print(\"Printing out the first 3 characters of the string:\")\n",
    "print(longStr[0:3])\n",
    "print (\"===================================\")"
   ]
  },
  {
   "cell_type": "code",
   "execution_count": 31,
   "metadata": {},
   "outputs": [
    {
     "name": "stdin",
     "output_type": "stream",
     "text": [
      "What is your name? Alfred\n"
     ]
    },
    {
     "name": "stdout",
     "output_type": "stream",
     "text": [
      "Hello, Alfred!\n"
     ]
    }
   ],
   "source": [
    "# ## INPUT FROM USERS #######################################\n",
    "\n",
    "answer = input(\"What is your name?\")\n",
    "print(\"Hello, \" + answer + \"!\")"
   ]
  },
  {
   "cell_type": "markdown",
   "metadata": {},
   "source": [
    "____\n",
    "# Topics: Quick overview\n",
    "- Basic usage of the str.zfill() method\n",
    "- Basic usage of the str.format() method\n",
    "- keyword arguments\n",
    "- Formatting Strings\n",
    "____"
   ]
  },
  {
   "cell_type": "code",
   "execution_count": 32,
   "metadata": {},
   "outputs": [
    {
     "name": "stdout",
     "output_type": "stream",
     "text": [
      "00012\n",
      "-003.14\n",
      "3.141592\n"
     ]
    }
   ],
   "source": [
    "## Basic usage of the str.zfill() method\n",
    "## (pads a numeric string on the left with zeros)\n",
    "## It understands about plus and minus signs\n",
    "\n",
    "print('12'.zfill(5))       # Output: 00012\n",
    "print('-3.14'.zfill(7))    # Output: -003.14\n",
    "print('3.141592'.zfill(5)) # Output: 3.141592\n",
    "#------------------------------------------------------------"
   ]
  },
  {
   "cell_type": "code",
   "execution_count": 33,
   "metadata": {},
   "outputs": [
    {
     "name": "stdout",
     "output_type": "stream",
     "text": [
      "We are the knights who say \"Ni!\"\n",
      "bits and bytes\n",
      "bytes and bits\n"
     ]
    }
   ],
   "source": [
    "## Basic usage of the str.format() method:\n",
    "print('We are the {} who say \"{}!\"'.format('knights', 'Ni'))\n",
    "\n",
    "# The brackets and characters within them (called format fields)\n",
    "# are replaced with the objects passed into the str.format() method.\n",
    "# A number in the brackets refers to the position of the object \n",
    "# passed into the str.format() method\n",
    "\n",
    "print('{0} and {1}'.format('bits', 'bytes')) # Output: bits and bytes\n",
    "print('{1} and {0}'.format('bits', 'bytes')) # Output: bytes and bits\n",
    "\n",
    "#------------------------------------------------------------"
   ]
  },
  {
   "cell_type": "code",
   "execution_count": 34,
   "metadata": {},
   "outputs": [
    {
     "name": "stdout",
     "output_type": "stream",
     "text": [
      "On Friday it was sunny.\n",
      "On Wednesday it was snowing.\n",
      "==================================\n"
     ]
    }
   ],
   "source": [
    "# If keyword arguments are used in the str.format() method, \n",
    "# their values are referred to by using the name of the argument.\n",
    "print('On {day} it was {weather}.'.format(day='Friday', weather='sunny'))\n",
    "# Output: On Friday it was sunny.\n",
    "\n",
    "day = 'Wednesday'\n",
    "weather = 'snowing'\n",
    "print('On {0} it was {1}.'.format(day, weather)) # Using variables\n",
    "# Output: On Wednesday it was snowing.\n",
    "print(\"==================================\")\n",
    "#------------------------------------------------------------"
   ]
  },
  {
   "cell_type": "code",
   "execution_count": 35,
   "metadata": {},
   "outputs": [
    {
     "name": "stdout",
     "output_type": "stream",
     "text": [
      "Mary: 81.77\n",
      "182.77\n",
      "0087\n"
     ]
    }
   ],
   "source": [
    "## Format String\n",
    "# If we have data like -\n",
    "#   name = 'Mary'\n",
    "#   grade = 81.7691\n",
    "# and you want to display this data in one string, one way you can do this\n",
    "# is to create a \"format string\" - telling Python how to display the data\n",
    "name = 'Mary'\n",
    "grade = 81.7691\n",
    "\n",
    "record = '%s: %.2f' % (name, grade)\n",
    "print(record)\n",
    "\n",
    "# More examples (note how single or double quotes do not matter)\n",
    "print('%.2f' % (182.7691))\n",
    "print(\"%04d\" % (87))   # Output: 0087   zero-fill 4 spaces\n",
    "#------------------------------------------------------------"
   ]
  },
  {
   "cell_type": "markdown",
   "metadata": {},
   "source": [
    "____\n",
    "# Topics: Quick overview\n",
    "- Numbers\n",
    "- Strings\n",
    "- Lists\n",
    "- Dictionaries\n",
    "- Tuples\n",
    "____"
   ]
  },
  {
   "cell_type": "code",
   "execution_count": 37,
   "metadata": {},
   "outputs": [
    {
     "name": "stdout",
     "output_type": "stream",
     "text": [
      "8\n",
      "2\n",
      "3\n",
      "1\n",
      "===================================\n"
     ]
    }
   ],
   "source": [
    "# Topics: Numbers, strings, lists, dictionaries, tuples\n",
    "import math \n",
    "import random \n",
    "\n",
    "## Numbers: built in mathematical functions\n",
    "# -- pow : power\n",
    "print(pow(2,3)) # 2 raised to 3 = 8\n",
    "\n",
    "# -- abs : absolute value\n",
    "print(abs(-2)) # returns 2, the absolute value of its argument\n",
    "\n",
    "# -- round : rounding up or down its argument (to closest whole number)\n",
    "print(round(2.8)) # rounds up to 3.0\n",
    "print(round(1.1)) # rounds down to 1.0\n",
    "\n",
    "print(\"=\" * 35)"
   ]
  },
  {
   "cell_type": "code",
   "execution_count": 38,
   "metadata": {},
   "outputs": [
    {
     "name": "stdout",
     "output_type": "stream",
     "text": [
      "3.4641016151377544\n",
      "3\n",
      "2\n",
      "2\n",
      "2\n",
      "===================================\n"
     ]
    }
   ],
   "source": [
    "## Importing math functions\n",
    "sqrt12 = math.sqrt(12)\n",
    "print(sqrt12)\n",
    "print(math.floor(sqrt12)) # using the square-root function from the math library\n",
    "\n",
    "print(math.floor(2.5)) # returns largest whole number less than the argument\n",
    "print(math.floor(2.9))\n",
    "print(math.floor(2.1))\n",
    "\n",
    "# Literature will give a full list of all mathematical functions\n",
    "\n",
    "print(\"=\" * 35)"
   ]
  },
  {
   "cell_type": "code",
   "execution_count": 39,
   "metadata": {},
   "outputs": [
    {
     "name": "stdout",
     "output_type": "stream",
     "text": [
      "0.713530191175815\n",
      "7\n",
      "===================================\n"
     ]
    }
   ],
   "source": [
    "## Importing Random - for random number generation\n",
    "print(random.random()) # using random() function in random library\n",
    "    # will return a number between 0 and 1\n",
    "                       \n",
    "print(random.randint(1,100)) # specify a range in the parenthesis\n",
    "    # this will return a random integer in the range 1-100\n",
    "    \n",
    "print(\"=\" * 35)"
   ]
  },
  {
   "cell_type": "code",
   "execution_count": 40,
   "metadata": {},
   "outputs": [
    {
     "name": "stdout",
     "output_type": "stream",
     "text": [
      "hello, world! Goodbye, world!\n",
      "29\n",
      "h\n",
      "hell\n",
      "hell\n",
      "o, world!\n",
      "hello, world!hello, world!\n",
      "===================================\n"
     ]
    }
   ],
   "source": [
    "## Strings\n",
    "myString = 'hello, world!'\n",
    "\n",
    "# -- String concatenation\n",
    "my2ndString = myString + ' Goodbye, world!'\n",
    "print(my2ndString)\n",
    "\n",
    "# -- len : built-in length funciton tells us how many characters in the string\n",
    "print(len(my2ndString))\n",
    "\n",
    "# -- Indexing\n",
    "# Strings are sequences in Python where each character of the string has a \n",
    "#  unique position\n",
    "\n",
    "print(myString[0]) # displays the first character of the string\n",
    "                  # first position is position zero. Will display 'h'\n",
    "                \n",
    "print(myString[0:4]) # First four characters (index positions 0-3)\n",
    "print(myString[:4]) # Beginning (0) to (n-1) position\n",
    "print(myString[4:]) # Fifth character and onwards until the end of the string\n",
    "\n",
    "# -- repetition\n",
    "print(myString*2)                     \n",
    "\n",
    "print(\"=\" * 35)"
   ]
  },
  {
   "cell_type": "code",
   "execution_count": 41,
   "metadata": {},
   "outputs": [
    {
     "name": "stdout",
     "output_type": "stream",
     "text": [
      "are.you.suggesting.coconuts.migrate\n",
      "['are', 'you', 'suggesting', 'coconuts', 'migrate']\n",
      "===================================\n"
     ]
    }
   ],
   "source": [
    "## Split a string based on a delimiter using split() function\n",
    "montyPythonQuote = 'are.you.suggesting.coconuts.migrate'\n",
    "print(montyPythonQuote)\n",
    "print(montyPythonQuote.split('.')) # split by the '.' delimiter. Result: a list!\n",
    "\n",
    "print(\"=\" * 35)"
   ]
  },
  {
   "cell_type": "code",
   "execution_count": 42,
   "metadata": {},
   "outputs": [
    {
     "name": "stdout",
     "output_type": "stream",
     "text": [
      "hello, world!\n",
      "  hello, world!\n",
      "hello, world!\n",
      "  hello, world!\n",
      "hello, world!  \n",
      "hello, world!\n",
      "===================================\n"
     ]
    }
   ],
   "source": [
    "## Strip out extra whitespace using strip(), rstrip() and lstrip() functions\n",
    "str1 = '  hello, world!'    # white space at the beginning\n",
    "str2 = '  hello, world!  '  # white space at both ends\n",
    "str3 = 'hello, world!  '    # white space at the end\n",
    "\n",
    "# strip() function removes white space from anywhere\n",
    "# rstrip() only removes white space from the right-hand-side of the string\n",
    "# lstrip() only removes white space from the left-hand-side of the string\n",
    "print(str1.lstrip())\n",
    "print(str1.rstrip())\n",
    "print(str2.strip())\n",
    "print(str2.rstrip())\n",
    "print(str2.lstrip())\n",
    "print(str3.rstrip())\n",
    "# Try these examples using the interactive shell (don't use the print functions)\n",
    "# for a better idea at how the strip() function works  E.g.:\n",
    "# In [27]: str2.lstrip()\n",
    "# Out[27]: 'hello, world!  '\n",
    "# You can see the white space remaining on the right-hand-side \n",
    "\n",
    "print(\"=\" * 35)"
   ]
  },
  {
   "cell_type": "code",
   "execution_count": 43,
   "metadata": {},
   "outputs": [
    {
     "name": "stdout",
     "output_type": "stream",
     "text": [
      "1\n",
      "5\n",
      "[1, 2]\n",
      "[2, 3]\n",
      "4\n",
      "[3, 4]\n",
      "[1, 2, 3, 4, 1, 2, 3, 4]\n",
      "[1, 2, 3, 4, 30, 40, 50]\n"
     ]
    }
   ],
   "source": [
    "## List structure -- [] -- uses square brackets\n",
    "numbers = [1,2,3,4] # Creates a list called numbers with the values 1,2,3,4\n",
    "print(numbers[0]) # Access first element (output: 1)\n",
    "print(numbers[0] + numbers[3]) # doing arithmetic with the values (output: 5)\n",
    "\n",
    "# -- slice\n",
    "print(numbers[0:2]) # Output: [1, 2]\n",
    "print(numbers[1:3]) # Output: [2, 3]\n",
    "print(len(numbers)) # use len() function to find the size. Output: 4\n",
    "print(numbers[2:])  # Output: [3, 4]\n",
    "print(numbers*2)    # Output: [1, 2, 3, 4, 1, 2, 3, 4]\n",
    "numbers2 = [30,40,50]\n",
    "print(numbers + numbers2) # concatenate two lists. \n",
    "                          # Output: [1, 2, 3, 4, 30, 40, 50]"
   ]
  },
  {
   "cell_type": "code",
   "execution_count": null,
   "metadata": {},
   "outputs": [],
   "source": [
    "# -- can mix types:                          \n",
    "myList = ['coconuts', 777, 7.25, 'Sir Robin', 80.0, True]\n",
    "print(myList)"
   ]
  },
  {
   "cell_type": "code",
   "execution_count": null,
   "metadata": {},
   "outputs": [],
   "source": [
    "# -- nested lists\n",
    "names = ['Darrell', 'Clayton', ['Billie Jean'], 'Samantha']\n",
    "print(names[2]) # returns a *list*\n",
    "print(names[0]) # returns a *string*"
   ]
  },
  {
   "cell_type": "code",
   "execution_count": 44,
   "metadata": {},
   "outputs": [
    {
     "name": "stdout",
     "output_type": "stream",
     "text": [
      "456\n",
      "dict_keys(['Tom', 'Bob', 'Sam'])\n",
      "dict_values([123, 456, 897])\n",
      "{'Tom': 123, 'Bob': 456, 'Sam': 897}\n",
      "Using 'in' to check if the key 'Sam' is in the dictionary (answer: True)\n",
      "True\n",
      "Using 'in' to check if the key 'Bob' is in the dictionary (answer: True)\n",
      "True\n"
     ]
    }
   ],
   "source": [
    "## Dictionary structure -- {} -- uses curly brackets\n",
    "# Is like a hash table. Has key-value pairs.\n",
    "phonelist = {'Tom':123, 'Bob':456, 'Sam':897}\n",
    "\n",
    "# -- retrieve a value - just write a key as the *index*\n",
    "print(phonelist['Bob'])\n",
    "\n",
    "# -- print list of keys, or print list of values\n",
    "# use keys() or values() functions\n",
    "# No ordering in a dictionary\n",
    "print(phonelist.keys())\n",
    "print(phonelist.values())\n",
    "print(phonelist) # note the data returned is not the same as the data entered\n",
    "print(\"Using 'in' to check if the key 'Sam' is in the dictionary (answer: True)\")\n",
    "print('Sam' in phonelist)\n",
    "print(\"Using 'in' to check if the key 'Bob' is in the dictionary (answer: True)\")\n",
    "print('Bob' in phonelist)"
   ]
  },
  {
   "cell_type": "code",
   "execution_count": 45,
   "metadata": {},
   "outputs": [
    {
     "name": "stdout",
     "output_type": "stream",
     "text": [
      "4\n"
     ]
    }
   ],
   "source": [
    "## Tuple structure -- () -- uses parenthesis\n",
    "numbers = (1,2,3,4) # numbers 1,2,3,4 stored in a tuple\n",
    "print(len(numbers)) # size\n",
    "# ... you can do all operations just like a list...\n",
    "\n",
    "# a tuple is like a list but with one big difference\n",
    "# *** A tuple is an immutable object! ***\n",
    "# Can't change a tuple once it's created\n",
    "# numbers[0] = 5 # Trying to assign a new value 5 to the first position\n",
    "# If you uncomment the above, you will get an error\n",
    "# Error message:  TypeError: 'tuple' object does not support item assignment"
   ]
  },
  {
   "cell_type": "markdown",
   "metadata": {},
   "source": [
    "____\n",
    "# Topics: Quick overview\n",
    "- Redefining/redirecting standard out (stdout) to print to a file\n",
    "- Redirecting standard out (stdout) back to printing to the screen\n",
    "____"
   ]
  },
  {
   "cell_type": "code",
   "execution_count": 46,
   "metadata": {},
   "outputs": [],
   "source": [
    "## Printing to a file rather than to the screen\n",
    "import sys # import the sys library"
   ]
  },
  {
   "cell_type": "code",
   "execution_count": 47,
   "metadata": {},
   "outputs": [
    {
     "name": "stdout",
     "output_type": "stream",
     "text": [
      "Hello goes to the screen!\n",
      "   Next: printing to the file!\n"
     ]
    }
   ],
   "source": [
    "# -- this is the usual way to print to the screen\n",
    "# Use the standard out (stdout) object of the sys library. It has\n",
    "# a function called write()\n",
    "sys.stdout.write(\"Hello goes to the screen!\\n\")  # Output to screen\n",
    "print(\"   Next: printing to the file!\")"
   ]
  },
  {
   "cell_type": "code",
   "execution_count": 48,
   "metadata": {},
   "outputs": [],
   "source": [
    "# Save the reference to sys.stdout (screen) so we can restore it later\n",
    "original = sys.stdout"
   ]
  },
  {
   "cell_type": "code",
   "execution_count": 49,
   "metadata": {},
   "outputs": [],
   "source": [
    "# Redirect stdout (by default it goes to the screen) to the file\n",
    "sys.stdout = open('pyScript06.txt', 'a') # open file for appending ('a')"
   ]
  },
  {
   "cell_type": "code",
   "execution_count": 50,
   "metadata": {},
   "outputs": [],
   "source": [
    "# Any print statement from now until the end of the session (or until stdout\n",
    "# is redirected back) will print to the file (instead of to the screen)\n",
    "print(\">>> Hello! This should go to the file!\")\n",
    "print(\">>> Here's another line that should go to the file!\")"
   ]
  },
  {
   "cell_type": "code",
   "execution_count": 51,
   "metadata": {},
   "outputs": [],
   "source": [
    "x = 5\n",
    "y = 10\n",
    "z = x + y\n",
    "# This output should also go to the file:\n",
    "print(str(x) + \" plus \" + str(y) + \" is: \" + str(z))"
   ]
  },
  {
   "cell_type": "code",
   "execution_count": 52,
   "metadata": {},
   "outputs": [],
   "source": [
    "# Restore stdout back to it's original form (to the screen)\n",
    "sys.stdout = original"
   ]
  },
  {
   "cell_type": "code",
   "execution_count": 53,
   "metadata": {},
   "outputs": [
    {
     "name": "stdout",
     "output_type": "stream",
     "text": [
      "\n",
      ">> Exercise is done! Open file 'pyScript06.txt' <<\n"
     ]
    }
   ],
   "source": [
    "# Now any print statement will show on the screen (and not go to the file) \n",
    "print(\"\\n>> Exercise is done! Open file 'pyScript06.txt' <<\")"
   ]
  },
  {
   "cell_type": "markdown",
   "metadata": {},
   "source": [
    "____\n",
    "# Topics: Quick overview\n",
    "- Getting input from the user\n",
    "- If-statement // if-else statement // if-else-if statement\n",
    "____"
   ]
  },
  {
   "cell_type": "code",
   "execution_count": 55,
   "metadata": {},
   "outputs": [
    {
     "name": "stdin",
     "output_type": "stream",
     "text": [
      "How old are you?  22\n",
      "What is the name of the gift giver?  alfred\n",
      "What did they give you?  bear\n",
      "What is your name?  Ashley\n"
     ]
    },
    {
     "name": "stdout",
     "output_type": "stream",
     "text": [
      "\n",
      "Dear alfred, \n",
      "\n",
      "Thank you so much for the bear!\n",
      "It was so nice. I can't belive I am 22\n",
      "years old. Doesn't seem any different than when \n",
      "I was 21!\n",
      "\n",
      "Sincerely, Ashley\n",
      "===================================\n"
     ]
    }
   ],
   "source": [
    "## Getting input from the user \n",
    "age = int(input(\"How old are you? \")) # remember int() function!\n",
    "name = input(\"What is the name of the gift giver? \")\n",
    "present = input(\"What did they give you? \")\n",
    "myname = input(\"What is your name? \")\n",
    "print(\"\")\n",
    "\n",
    "print(\"Dear \" + name + \", \")\n",
    "print(\"\")\n",
    "print(\"Thank you so much for the \" + present + \"!\")\n",
    "print(\"It was so nice. I can't belive I am \" + str(age))\n",
    "print(\"years old. Doesn't seem any different than when \")\n",
    "print(\"I was \" + str(age-1) + \"!\")\n",
    "print(\"\")\n",
    "print(\"Sincerely, \" + myname)\n",
    "\n",
    "print(\"=\" * 35)"
   ]
  },
  {
   "cell_type": "code",
   "execution_count": 57,
   "metadata": {},
   "outputs": [
    {
     "name": "stdout",
     "output_type": "stream",
     "text": [
      "False\n",
      "True\n",
      "False\n",
      "True\n",
      "===================================\n"
     ]
    }
   ],
   "source": [
    "## If-statement\n",
    "# Comparisons are made using relational operators (returns a Boolean result)\n",
    "# (True or False) Will combine relational expressions using logical operators.\n",
    "\n",
    "# -- logical operators, examples: and, or, and not\n",
    "hoursWorked = 39\n",
    "salary = 39000\n",
    "print((hoursWorked > 40) and (salary <= 50000)) # False\n",
    "\n",
    "password = 'GUEST'\n",
    "print((password == 'guest') or (password == 'GUEST')) # True\n",
    "\n",
    "print(not(100 == 100)) # False\n",
    "print(not(100 < 1)) # True\n",
    "print(\"=\" * 35)"
   ]
  },
  {
   "cell_type": "code",
   "execution_count": 58,
   "metadata": {},
   "outputs": [
    {
     "name": "stdin",
     "output_type": "stream",
     "text": [
      "Enter hours worked:  100\n"
     ]
    },
    {
     "name": "stdout",
     "output_type": "stream",
     "text": [
      "Gross pay: 3250.0\n"
     ]
    }
   ],
   "source": [
    "# -- simple if\n",
    "hoursWorked = int(input(\"Enter hours worked: \"))\n",
    "rate = 25.00 # Amount per hour\n",
    "if hoursWorked > 40:\n",
    "    grossPay = (40 * rate) + ((hoursWorked - 40) * (rate * 1.5))\n",
    "if hoursWorked <= 40:\n",
    "    grossPay = hoursWorked * rate\n",
    "print(\"Gross pay: \" + str(grossPay))"
   ]
  },
  {
   "cell_type": "code",
   "execution_count": 63,
   "metadata": {},
   "outputs": [
    {
     "name": "stdin",
     "output_type": "stream",
     "text": [
      "Enter a numeric grade:  72\n"
     ]
    },
    {
     "name": "stdout",
     "output_type": "stream",
     "text": [
      "Your letter grade is: C\n",
      "===================================\n"
     ]
    }
   ],
   "source": [
    "# -- if-else-if statement\n",
    "grade = int(input(\"Enter a numeric grade: \"))\n",
    "letterGrade = \"\"\n",
    "if grade >= 90:\n",
    "    letterGrade = \"A\"\n",
    "elif grade >= 80:\n",
    "    letterGrade = \"B\"\n",
    "elif grade >= 70:\n",
    "    letterGrade = \"C\"\n",
    "elif grade >= 60:\n",
    "    letterGrade = \"D\"\n",
    "elif grade <= 59:\n",
    "    letterGrade = \"F\"\n",
    "else:\n",
    "    print(\"Did not recognize input!\")\n",
    "    \n",
    "print(\"Your letter grade is: \" + letterGrade)\n",
    "\n",
    "print(\"=\" * 35)"
   ]
  },
  {
   "cell_type": "markdown",
   "metadata": {},
   "source": [
    "____\n",
    "# Topics: Guessing Game\n",
    "____"
   ]
  },
  {
   "cell_type": "code",
   "execution_count": 1,
   "metadata": {},
   "outputs": [
    {
     "name": "stdout",
     "output_type": "stream",
     "text": [
      "Here is a guessing game. You get three tries.\n",
      "What is the name of the computer that played on Jeopardy?\n"
     ]
    },
    {
     "name": "stdin",
     "output_type": "stream",
     "text": [
      " a\n",
      "Sorry. Guess again:  a\n",
      "Sorry. One more guess:  Watson\n"
     ]
    },
    {
     "name": "stdout",
     "output_type": "stream",
     "text": [
      "That is right!\n",
      "=============================================\n"
     ]
    }
   ],
   "source": [
    "## Guessing game using multiple if-else statements\n",
    "# A better way to do this is to write a program using a loop\n",
    "# At this time we've not covered loops yet, we will soon!\n",
    "\n",
    "answer = \"Watson\"\n",
    "print(\"Here is a guessing game. You get three tries.\")\n",
    "print(\"What is the name of the computer that played on Jeopardy?\")\n",
    "# response = input()\n",
    "response = input()\n",
    "if response == answer:\n",
    "   print(\"That is right!\")\n",
    "else:\n",
    "   response = input(\"Sorry. Guess again: \")\n",
    "   if response == answer:\n",
    "      print(\"That is right!\")\n",
    "   else:\n",
    "      response = input(\"Sorry. One more guess: \")\n",
    "      if response == answer:\n",
    "         print(\"That is right!\")\n",
    "      else:\n",
    "         print(\"Sorry. No more guesses. The answer is \" + answer + \".\")\n",
    "\n",
    "print(\"=============================================\")    "
   ]
  },
  {
   "cell_type": "code",
   "execution_count": 64,
   "metadata": {},
   "outputs": [
    {
     "name": "stdout",
     "output_type": "stream",
     "text": [
      "1\n",
      "2\n",
      "3\n",
      "4\n",
      "5\n",
      "6\n",
      "7\n",
      "8\n",
      "9\n",
      "10\n",
      "----------\n"
     ]
    }
   ],
   "source": [
    "## While loops\n",
    "\n",
    "# Format:\n",
    "\n",
    "# while relationalExpression:   # while value of RE is true...\n",
    "#   statements                  # elecute the statements inside the body\n",
    "\n",
    "# There are two kinds of while loops:\n",
    "#   - count-controlled\n",
    "#   - event-controlled\n",
    "\n",
    "# -- count-controlled while loop\n",
    "number = 1\n",
    "while number <= 10:\n",
    "    print(number)\n",
    "    number = number + 1     # Important!\n",
    "print(\"----------\")    \n",
    "# Last line is important. Must be some statement that will eventually\n",
    "# cause the relational expression to become FALSE (else infinite loop!)\n",
    "# Eventually number will become 11, RE would be false --> end looping"
   ]
  },
  {
   "cell_type": "code",
   "execution_count": 65,
   "metadata": {},
   "outputs": [
    {
     "name": "stdout",
     "output_type": "stream",
     "text": [
      "The sum is 55\n",
      "----------\n",
      "Year: 1: 5100.0\n",
      "Year: 2: 5202.0\n",
      "Year: 3: 5306.04\n",
      "Year: 4: 5412.1608\n",
      "Year: 5: 5520.4040159999995\n",
      "Year: 6: 5630.81209632\n",
      "Year: 7: 5743.4283382464\n",
      "Year: 8: 5858.296905011328\n",
      "Year: 9: 5975.462843111554\n",
      "Year: 10: 6094.972099973786\n",
      "----------\n"
     ]
    }
   ],
   "source": [
    "# Few more examples:\n",
    "\n",
    "# Sum of the numbers\n",
    "sum = 0\n",
    "number = 1\n",
    "while number <= 10:\n",
    "   sum = sum + number\n",
    "   number = number + 1\n",
    "print(\"The sum is \" + str(sum))\n",
    "print(\"----------\")\n",
    "\n",
    "# How much would the balance increase growing at a simple interest\n",
    "# of 2% per year for 10 years\n",
    "balance = 5000\n",
    "rate = 1.02\n",
    "year = 1\n",
    "while year <= 10:\n",
    "   balance = balance * rate\n",
    "   print(\"Year: \" + str(year) + \": \" + str(balance))\n",
    "   year = year + 1\n",
    "print(\"----------\")   "
   ]
  },
  {
   "cell_type": "code",
   "execution_count": 67,
   "metadata": {},
   "outputs": [
    {
     "name": "stdin",
     "output_type": "stream",
     "text": [
      "Enter a numerator:  1\n",
      "Enter a denominator (-1 to end):  -1\n"
     ]
    },
    {
     "name": "stdout",
     "output_type": "stream",
     "text": [
      "-1.0\n",
      "----------\n"
     ]
    }
   ],
   "source": [
    "## Use of continue and break in loops\n",
    "\n",
    "# -- continue statement\n",
    "# Using continue causes the loop to to stop in the middle of executing\n",
    "# the body and continue with the next iteration of the loop - \n",
    "# meaning, back to the top and testing the RE, then continuing back\n",
    "# into the body of the loop (if appropriate)\n",
    "\n",
    "# Format:\n",
    "\n",
    "# while RE:\n",
    "#   statements\n",
    "#   continue\n",
    "#   statements\n",
    "\n",
    "# Generally there is a check to make before continue is issued\n",
    "# if RE:\n",
    "#   continue  # remaining statements do NOT get executed\n",
    "\n",
    "# continue example\n",
    "# take numerator and denominator and display the quotient\n",
    "# n/d (only if d != 0)\n",
    "numer = 0\n",
    "denom = 0\n",
    "while denom != -1:\n",
    "    numer = float(input(\"Enter a numerator: \"))\n",
    "    denom = float(input(\"Enter a denominator (-1 to end): \"))\n",
    "    if denom == 0:\n",
    "       continue     # We do not want to calculate the rest of the stmts!\n",
    "    print(numer / denom)\n",
    "print(\"----------\")"
   ]
  },
  {
   "cell_type": "markdown",
   "metadata": {},
   "source": [
    "# Did You Know: 2020\n",
    "https://www.youtube.com/watch?v=u06BXgWbGvA"
   ]
  },
  {
   "cell_type": "code",
   "execution_count": null,
   "metadata": {},
   "outputs": [],
   "source": []
  }
 ],
 "metadata": {
  "kernelspec": {
   "display_name": "Python 3",
   "language": "python",
   "name": "python3"
  },
  "language_info": {
   "codemirror_mode": {
    "name": "ipython",
    "version": 3
   },
   "file_extension": ".py",
   "mimetype": "text/x-python",
   "name": "python",
   "nbconvert_exporter": "python",
   "pygments_lexer": "ipython3",
   "version": "3.8.8"
  }
 },
 "nbformat": 4,
 "nbformat_minor": 4
}
